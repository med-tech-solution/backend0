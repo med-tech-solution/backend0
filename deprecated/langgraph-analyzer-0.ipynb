{
 "cells": [
  {
   "cell_type": "code",
   "execution_count": null,
   "metadata": {},
   "outputs": [],
   "source": [
    "%pip install langchain langchain_experimental langchain_core langgraph python-dotenv"
   ]
  },
  {
   "cell_type": "code",
   "execution_count": null,
   "metadata": {},
   "outputs": [
    {
     "ename": "",
     "evalue": "",
     "output_type": "error",
     "traceback": [
      "\u001b[1;31mRunning cells with '.venv (Python 3.10.4)' requires the ipykernel package.\n",
      "\u001b[1;31mRun the following command to install 'ipykernel' into the Python environment. \n",
      "\u001b[1;31mCommand: '/Users/debasmitroy/Desktop/medtech/medtech-codes/.venv/bin/python -m pip install ipykernel -U --force-reinstall'"
     ]
    }
   ],
   "source": [
    "from typing import Annotated\n",
    "from langchain_experimental.utilities import PythonREPL\n",
    "from langchain_core.tools import tool\n",
    "from langchain_openai import ChatOpenAI\n",
    "from langchain_core.messages import HumanMessage, SystemMessage,ToolMessage\n",
    "from langchain_core.pydantic_v1 import BaseModel, Field\n",
    "from langchain_core.prompts import ChatPromptTemplate\n",
    "\n",
    "from langgraph.graph import StateGraph, END\n",
    "from typing import TypedDict, Literal, List, Union\n",
    "\n",
    "from IPython.display import Image, display\n",
    "from dotenv import load_dotenv\n",
    "load_dotenv(\"./.env\")"
   ]
  },
  {
   "cell_type": "code",
   "execution_count": 77,
   "metadata": {},
   "outputs": [],
   "source": [
    "class SentimentBaseModel(BaseModel):\n",
    "    sentiment: str = Field(..., description=\"The sentiment of the text. Either 'positive', 'negative', or 'neutral'.\")\n",
    "    confidence: float = Field(..., description=\"The confidence of the sentiment prediction, between 0 and 1.\")\n",
    "    gender_bias: str = Field(..., description=\"Whether the sentiment prediction is biased towards a particular gender. Either 'male', 'female', or 'neutral'.\")\n",
    "    socio_political_bias: str = Field(..., description=\"Whether the sentiment prediction is biased towards a particular socio-political group. Either 'left', 'right', or 'neutral'.\")\n",
    "    optimism: float = Field(..., description=\"The optimism of the sentiment prediction, between 0 and 1.\")\n",
    "\n",
    "\n",
    "class SentimentResponse(BaseModel):\n",
    "    response: str = Field(..., description=\"The response to the input text.\")\n",
    "    "
   ]
  },
  {
   "cell_type": "code",
   "execution_count": 78,
   "metadata": {},
   "outputs": [],
   "source": [
    "class LangchainJSONEngine:\n",
    "    def __init__(self, sampleBaseModel: BaseModel, systemPromptText: str=None, humanPromptText: str=None):\n",
    "        self.llm = llm = ChatOpenAI(model=\"gpt-3.5-turbo\", temperature=0)\n",
    "        self.structured_llm = llm.with_structured_output(sampleBaseModel)\n",
    "        \n",
    "        if systemPromptText is None:\n",
    "            self.systemPromptText = \"\"\"\n",
    "            You are an AI assistant. You are helping a user with a task. The user is asking you questions and you are answering them.\n",
    "            \"\"\"\n",
    "        else:\n",
    "            self.systemPromptText = systemPromptText\n",
    "\n",
    "        if humanPromptText is None:\n",
    "            self.HumanPromptText = \"\"\"\n",
    "            Human: {query}\n",
    "            \"\"\"\n",
    "        else:\n",
    "            self.humanPromptText = humanPromptText\n",
    "\n",
    "        self.prompt = ChatPromptTemplate.from_messages(\n",
    "            [(\"system\", self.systemPromptText), (\"human\", \"Query:\\n\\n {query}\")])\n",
    "        \n",
    "        self.micro_agent = self.prompt | self.structured_llm\n",
    "\n",
    "    def run(self, query: str):\n",
    "        result = self.micro_agent.invoke({\n",
    "            \"query\": query\n",
    "        }) \n",
    "        return result\n",
    "    \n",
    "\n",
    "class LangchainSimpleEngine:\n",
    "    def __init__(self, tools:List[tool]=[], systemPromptText: str=None, humanPromptText: str=None):\n",
    "        self.llm = llm = ChatOpenAI(model=\"gpt-3.5-turbo\", temperature=0)\n",
    "        self.tools = tools\n",
    "        \n",
    "        if len(tools) == 0:\n",
    "            self.llm_with_tools = llm\n",
    "        else:\n",
    "            self.llm_with_tools = llm.bind_tools(tools)\n",
    "            \n",
    "        if systemPromptText is None:\n",
    "            self.systemPromptText = \"\"\"\n",
    "            You are an AI assistant. You are helping a user with a task. The user is asking you questions and you are answering them.\n",
    "            \"\"\"\n",
    "        else:\n",
    "            self.systemPromptText = systemPromptText\n",
    "\n",
    "        if humanPromptText is not None: \n",
    "            print(\"Skipping human prompt text ...\")\n",
    "\n",
    "    def run(self, query: str):\n",
    "        messages = [\n",
    "            SystemMessage(self.systemPromptText),\n",
    "            HumanMessage(content=query)\n",
    "        ]\n",
    "        level1_result = self.llm_with_tools.invoke(messages)\n",
    "        if len(level1_result.tool_calls) == 0:\n",
    "            print(\"No tools to run ...\")\n",
    "            return level1_result\n",
    "        else:\n",
    "            print(\"Running tools ...\")\n",
    "            for tool_call in level1_result.tool_calls:\n",
    "                tool_output = tool_call.invoke()\n",
    "                messages.append(ToolMessage(tool_output, tool_call_id=tool_call[\"id\"]))\n",
    "            level2_result = self.llm_with_tools.invoke(messages)\n",
    "            return level2_result"
   ]
  },
  {
   "cell_type": "code",
   "execution_count": 103,
   "metadata": {},
   "outputs": [],
   "source": [
    "class AgentState(TypedDict):\n",
    "    article_state: str\n",
    "    sentiment: str\n",
    "    confidence: float\n",
    "    gender_bias: str\n",
    "    socio_political_bias: str\n",
    "    optimism: float\n",
    "    violation: str"
   ]
  },
  {
   "cell_type": "code",
   "execution_count": 116,
   "metadata": {},
   "outputs": [],
   "source": [
    "class MyAgent:\n",
    "    sentiment_engine = LangchainJSONEngine(\n",
    "        SentimentBaseModel, \n",
    "        systemPromptText =\n",
    "                        \"\"\"\n",
    "                            You are a sentiment analysis AI. You are analyzing the sentiment of a text. \n",
    "                            The text can be positive, negative, or neutral. \n",
    "                            You are predicting the sentiment of the text and the confidence of the prediction.\n",
    "                            You also predict whether the sentiment is biasness, racist, sexist, or politically biased etc. \n",
    "                        \"\"\"\n",
    "    )\n",
    "\n",
    "    reconstruction_engine = LangchainSimpleEngine(\n",
    "                        systemPromptText=\n",
    "                        \"\"\"\n",
    "                            You are an AI assistant. You are given a user written text but there are some issues with the text.\n",
    "                            The user-text is written within <<< and >>>. \n",
    "                            The guidelines thaose are violated are given within --- and ---.\n",
    "                            \n",
    "                            Your task is to remove those portions of the text that are violating the guidelines.\n",
    "                            Then rewrite the text and provide the modified text.\n",
    "                        \"\"\"\n",
    "    )\n",
    "                        \n",
    "\n",
    "    def __init__(self):\n",
    "        pass\n",
    "\n",
    "    @staticmethod\n",
    "    def welcome(state:AgentState)->AgentState:\n",
    "        print(\"Welcome to the AI assistant. I am here to help you with sentiment analysis ... \")\n",
    "        return state\n",
    "    \n",
    "    @staticmethod\n",
    "    def evaluate_sentiment(state:AgentState)->AgentState:\n",
    "        query = state[\"article_state\"]\n",
    "        result = MyAgent.sentiment_engine.run(query)\n",
    "        # print(\"The sentiment analysis result: \", result)\n",
    "        state[\"sentiment\"] = result.sentiment\n",
    "        state[\"sentiment\"] = result.confidence\n",
    "        state[\"gender_bias\"] = result.gender_bias\n",
    "        state[\"socio_political_bias\"] = result.socio_political_bias\n",
    "        state[\"optimism\"] = result.optimism\n",
    "        return state\n",
    "    \n",
    "    @staticmethod\n",
    "    def router(state:AgentState)->AgentState:\n",
    "        if state[\"gender_bias\"] != \"neutral\":\n",
    "            violation = f\"The sentiment is biased towards {state['gender_bias']}.\"\n",
    "            print(violation)\n",
    "            state[\"violation\"] = violation\n",
    "            return \"Not Passed\"\n",
    "        else:\n",
    "            print(\"The sentiment is not biased.\")\n",
    "            return \"Passed\"\n",
    "        \n",
    "    @staticmethod\n",
    "    def reconstruct_text(state:AgentState)->AgentState:\n",
    "        print(\"Reconstructing the text ...\")\n",
    "        # print(\"The state: \", state)\n",
    "        original_query = state[\"article_state\"]\n",
    "        violation = state[\"violation\"]\n",
    "        modified_query = MyAgent.reconstruction_engine.run(f\"\"\"\n",
    "                                                            The User text is: \n",
    "                                                            <<< {original_query} >>>.\n",
    "\n",
    "                                                            The guidelines that are violated are:\n",
    "                                                            --- {violation} ---.\n",
    "                                                           \"\"\")\n",
    "        print(\"The modified query: \", modified_query.content)         \n",
    "        state[\"article_state\"] = modified_query.content\n",
    "        return state\n",
    "\n",
    "    @staticmethod\n",
    "    def draw_workflow(app):\n",
    "        display(Image(app.get_graph(xray=True).draw_mermaid_png()))\n",
    "\n",
    "    def build(self):\n",
    "        workflow = StateGraph(AgentState)\n",
    "        workflow.add_node(\"start\", MyAgent.welcome)\n",
    "        workflow.add_node(\"evaluate_sentiment\", MyAgent.evaluate_sentiment)\n",
    "        workflow.add_node(\"reconstruct_text\", MyAgent.reconstruct_text)\n",
    "        \n",
    "        \n",
    "        workflow.set_entry_point(\"start\")\n",
    "        workflow.add_edge(\"start\", \"evaluate_sentiment\")\n",
    "\n",
    "        workflow.add_conditional_edges(\n",
    "            \"evaluate_sentiment\",\n",
    "            MyAgent.router,\n",
    "            {\n",
    "                \"Not Passed\": \"reconstruct_text\",\n",
    "                \"Passed\": END\n",
    "            }\n",
    "        )\n",
    "        \n",
    "        workflow.add_edge(\"reconstruct_text\", \"evaluate_sentiment\")\n",
    "        app = workflow.compile()\n",
    "        return app"
   ]
  },
  {
   "cell_type": "code",
   "execution_count": 117,
   "metadata": {},
   "outputs": [],
   "source": [
    "my_agent_app = MyAgent().build()"
   ]
  },
  {
   "cell_type": "code",
   "execution_count": 118,
   "metadata": {},
   "outputs": [
    {
     "data": {
      "image/jpeg": "[encoded data removed]",
      "text/plain": [
       "<IPython.core.display.Image object>"
      ]
     },
     "metadata": {},
     "output_type": "display_data"
    }
   ],
   "source": [
    "MyAgent.draw_workflow(my_agent_app)"
   ]
  },
  {
   "cell_type": "code",
   "execution_count": 122,
   "metadata": {},
   "outputs": [
    {
     "name": "stdout",
     "output_type": "stream",
     "text": [
      "Welcome to the AI assistant. I am here to help you with sentiment analysis ... \n",
      "The sentiment is biased towards female.\n",
      "Reconstructing the text ...\n",
      "No tools to run ...\n",
      "The modified query:  The modified text is: \n",
      "I hate this movie. It is the worst movie I have ever seen.\n",
      "The sentiment is not biased.\n"
     ]
    }
   ],
   "source": [
    "result = my_agent_app.invoke({\n",
    "    \"article_state\": \"I hate this movie. It is the worst movie I have ever seen. Because the movie's director is a female.\"\n",
    "})"
   ]
  },
  {
   "cell_type": "code",
   "execution_count": null,
   "metadata": {},
   "outputs": [],
   "source": []
  },
  {
   "cell_type": "code",
   "execution_count": null,
   "metadata": {},
   "outputs": [],
   "source": []
  }
 ],
 "metadata": {
  "kernelspec": {
   "display_name": "myenv",
   "language": "python",
   "name": "python3"
  },
  "language_info": {
   "codemirror_mode": {
    "name": "ipython",
    "version": 3
   },
   "file_extension": ".py",
   "mimetype": "text/x-python",
   "name": "python",
   "nbconvert_exporter": "python",
   "pygments_lexer": "ipython3",
   "version": "3.10.4"
  }
 },
 "nbformat": 4,
 "nbformat_minor": 2
}
