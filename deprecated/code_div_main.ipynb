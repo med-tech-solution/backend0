{
 "cells": [
  {
   "cell_type": "markdown",
   "metadata": {},
   "source": [
    "### Imports"
   ]
  },
  {
   "cell_type": "code",
   "execution_count": 25,
   "metadata": {},
   "outputs": [],
   "source": [
    "from common_imports import *\n",
    "from multiprocessing import Process,Value,Lock\n",
    "import time"
   ]
  },
  {
   "cell_type": "markdown",
   "metadata": {},
   "source": [
    "### Utils"
   ]
  },
  {
   "cell_type": "code",
   "execution_count": 2,
   "metadata": {},
   "outputs": [],
   "source": [
    "def save_a_file(content, filepath):\n",
    "    with open(filepath, 'w') as f:\n",
    "        f.write(content)"
   ]
  },
  {
   "cell_type": "code",
   "execution_count": 3,
   "metadata": {},
   "outputs": [],
   "source": [
    "class CodeProfiler:\n",
    "    def __init__(self,codes,default_save_dir:str=\"./code_profiler_source\"):\n",
    "        \"\"\"\n",
    "        Sample code-path : myproject-src-main.py\n",
    "        Mapping from code-path to source and metadata\n",
    "        \"\"\"\n",
    "        self.codes = {}\n",
    "        self.default_save_dir = default_save_dir\n",
    "    \n",
    "    def add_code(self, code_path, source, metadata={}):\n",
    "        self.codes[code_path] = {\n",
    "            \"source\": source,\n",
    "            \"metadata\": metadata,\n",
    "        }\n",
    "    \n",
    "    def save(self):\n",
    "        for code_path, code in self.codes.items():\n",
    "            save_a_file(\n",
    "                content=code[\"source\"],\n",
    "                filepath=os.path.join(self.default_save_dir, code_path)\n",
    "            )\n",
    "\n",
    "    def run_codes(self):\n",
    "        for code_path, code in self.codes.items():\n",
    "            exec(code[\"source\"])            "
   ]
  },
  {
   "cell_type": "code",
   "execution_count": null,
   "metadata": {},
   "outputs": [],
   "source": [
    "def fun1(delay:int, loop_count:int):\n",
    "    time.sleep(delay)\n",
    "\n",
    "    for i in range(loop_count):\n",
    "        print(f\"Loop count: {i}\")\n",
    "\n",
    "    print(\"Slept for {} seconds\".format(delay))\n",
    "    print(\"Exiting...\")"
   ]
  },
  {
   "cell_type": "code",
   "execution_count": null,
   "metadata": {},
   "outputs": [],
   "source": [
    "def profile_single_function(function , *args, **kwargs):\n",
    "    \"\"\"\n",
    "    Profile a single module\n",
    "    \"\"\"\n",
    "    # shared_value = Value('i', 0)\n",
    "    process = Process(target=function, args=args, kwargs=kwargs)\n",
    "    process.start()\n",
    "    process.join()"
   ]
  },
  {
   "cell_type": "markdown",
   "metadata": {},
   "source": [
    "### Experiments"
   ]
  },
  {
   "cell_type": "code",
   "execution_count": 18,
   "metadata": {},
   "outputs": [],
   "source": [
    "_result = subprocess.check_output(\"python3 ./code_profiler_source/test.py 30 3\", shell=True)\n"
   ]
  },
  {
   "cell_type": "code",
   "execution_count": 21,
   "metadata": {},
   "outputs": [
    {
     "name": "stdout",
     "output_type": "stream",
     "text": [
      "b'Loop count: 0\\nLoop count: 1\\nLoop count: 2\\nSlept for 30.0 seconds\\nExiting...\\n'\n"
     ]
    }
   ],
   "source": []
  },
  {
   "cell_type": "code",
   "execution_count": 19,
   "metadata": {},
   "outputs": [],
   "source": [
    "# Mulit"
   ]
  },
  {
   "cell_type": "code",
   "execution_count": null,
   "metadata": {},
   "outputs": [],
   "source": [
    "_result = subprocess.check_output(\"python3 ./code_profiler_source/test.py 30 3\", shell=True)"
   ]
  },
  {
   "cell_type": "code",
   "execution_count": 48,
   "metadata": {},
   "outputs": [],
   "source": [
    "import subprocess\n",
    "\n",
    "def get_process_stats(pid):\n",
    "    \"\"\"\n",
    "    It returns the process stats for a given pid\n",
    "    It returns a dictionary with the following keys:\n",
    "    - pid: process id\n",
    "    - command: command name\n",
    "    - cpu: cpu usage\n",
    "    - idlew: idle wakeups\n",
    "    - power: power usage\n",
    "    - mem: memory usage\n",
    "    \"\"\"\n",
    "    command = [\n",
    "        \"top\", \"-l\", \"1\", \"-pid\", str(pid),\n",
    "        \"-stats\", \"pid,command,cpu,idlew,power,mem\", \"-o\", \"power\"\n",
    "    ]\n",
    "    \n",
    "    try:\n",
    "        process_stats_output = subprocess.check_output(command, text=True)\n",
    "        stats = {}\n",
    "        keys = process_stats_output.split(\"\\n\")[-3].split()\n",
    "        values = process_stats_output.split(\"\\n\")[-2].split()\n",
    "        for i in range(len(keys)):\n",
    "            stats[keys[i]] = values[i]\n",
    "        return stats        \n",
    "    except subprocess.CalledProcessError as e:\n",
    "        print(f\"An error occurred: {e}\")\n",
    "    return None"
   ]
  },
  {
   "cell_type": "code",
   "execution_count": 49,
   "metadata": {},
   "outputs": [],
   "source": [
    "sample_process_stats = get_process_stats(24898)"
   ]
  },
  {
   "cell_type": "code",
   "execution_count": 50,
   "metadata": {},
   "outputs": [
    {
     "data": {
      "text/plain": [
       "{'PID': '24898',\n",
       " 'COMMAND': '1Focus',\n",
       " '%CPU': '0.0',\n",
       " 'IDLEW': '53440',\n",
       " 'POWER': '0.0',\n",
       " 'MEM': '36M'}"
      ]
     },
     "execution_count": 50,
     "metadata": {},
     "output_type": "execute_result"
    }
   ],
   "source": [
    "sample_process_stats"
   ]
  },
  {
   "cell_type": "code",
   "execution_count": 34,
   "metadata": {},
   "outputs": [],
   "source": [
    "import multiprocessing as mp"
   ]
  },
  {
   "cell_type": "code",
   "execution_count": 52,
   "metadata": {},
   "outputs": [
    {
     "ename": "FileNotFoundError",
     "evalue": "[Errno 2] No such file or directory: '/sys/devices/system/cpu/present'",
     "output_type": "error",
     "traceback": [
      "\u001b[0;31m---------------------------------------------------------------------------\u001b[0m",
      "\u001b[0;31mFileNotFoundError\u001b[0m                         Traceback (most recent call last)",
      "Cell \u001b[0;32mIn[52], line 3\u001b[0m\n\u001b[1;32m      1\u001b[0m \u001b[38;5;28;01mimport\u001b[39;00m \u001b[38;5;21;01mpyRAPL\u001b[39;00m\n\u001b[0;32m----> 3\u001b[0m \u001b[43mpyRAPL\u001b[49m\u001b[38;5;241;43m.\u001b[39;49m\u001b[43msetup\u001b[49m\u001b[43m(\u001b[49m\u001b[43m)\u001b[49m\n\u001b[1;32m      5\u001b[0m csv_output \u001b[38;5;241m=\u001b[39m pyRAPL\u001b[38;5;241m.\u001b[39moutputs\u001b[38;5;241m.\u001b[39mCSVOutput(\u001b[38;5;124m'\u001b[39m\u001b[38;5;124mresult.csv\u001b[39m\u001b[38;5;124m'\u001b[39m)\n\u001b[1;32m      7\u001b[0m \u001b[38;5;129m@pyRAPL\u001b[39m\u001b[38;5;241m.\u001b[39mmeasure(output\u001b[38;5;241m=\u001b[39mcsv_output)\n\u001b[1;32m      8\u001b[0m \u001b[38;5;28;01mdef\u001b[39;00m \u001b[38;5;21mfoo\u001b[39m():\n\u001b[1;32m      9\u001b[0m     \u001b[38;5;66;03m# Instructions to be evaluated.\u001b[39;00m\n",
      "File \u001b[0;32m~/Desktop/medtech/medtech-codes/myenv/lib/python3.10/site-packages/pyRAPL/pyRAPL.py:39\u001b[0m, in \u001b[0;36msetup\u001b[0;34m(devices, socket_ids)\u001b[0m\n\u001b[1;32m     25\u001b[0m \u001b[38;5;28;01mdef\u001b[39;00m \u001b[38;5;21msetup\u001b[39m(devices: Optional[List[Device]] \u001b[38;5;241m=\u001b[39m \u001b[38;5;28;01mNone\u001b[39;00m, socket_ids: Optional[List[\u001b[38;5;28mint\u001b[39m]] \u001b[38;5;241m=\u001b[39m \u001b[38;5;28;01mNone\u001b[39;00m):\n\u001b[1;32m     26\u001b[0m \u001b[38;5;250m    \u001b[39m\u001b[38;5;124;03m\"\"\"\u001b[39;00m\n\u001b[1;32m     27\u001b[0m \u001b[38;5;124;03m    Configure which device and CPU socket should be monitored by pyRAPL\u001b[39;00m\n\u001b[1;32m     28\u001b[0m \n\u001b[0;32m   (...)\u001b[0m\n\u001b[1;32m     37\u001b[0m \u001b[38;5;124;03m    :raise PyRAPLBadSocketIdException: if the given socket in parameter doesn't exist\u001b[39;00m\n\u001b[1;32m     38\u001b[0m \u001b[38;5;124;03m    \"\"\"\u001b[39;00m\n\u001b[0;32m---> 39\u001b[0m     pyRAPL\u001b[38;5;241m.\u001b[39m_sensor \u001b[38;5;241m=\u001b[39m \u001b[43mSensor\u001b[49m\u001b[43m(\u001b[49m\u001b[43mdevices\u001b[49m\u001b[38;5;241;43m=\u001b[39;49m\u001b[43mdevices\u001b[49m\u001b[43m,\u001b[49m\u001b[43m \u001b[49m\u001b[43msocket_ids\u001b[49m\u001b[38;5;241;43m=\u001b[39;49m\u001b[43msocket_ids\u001b[49m\u001b[43m)\u001b[49m\n",
      "File \u001b[0;32m~/Desktop/medtech/medtech-codes/myenv/lib/python3.10/site-packages/pyRAPL/sensor.py:59\u001b[0m, in \u001b[0;36mSensor.__init__\u001b[0;34m(self, devices, socket_ids)\u001b[0m\n\u001b[1;32m     57\u001b[0m \u001b[38;5;28;01mfor\u001b[39;00m device \u001b[38;5;129;01min\u001b[39;00m tmp_device:\n\u001b[1;32m     58\u001b[0m     \u001b[38;5;28;01mtry\u001b[39;00m:\n\u001b[0;32m---> 59\u001b[0m         \u001b[38;5;28mself\u001b[39m\u001b[38;5;241m.\u001b[39m_device_api[device] \u001b[38;5;241m=\u001b[39m \u001b[43mDeviceAPIFactory\u001b[49m\u001b[38;5;241;43m.\u001b[39;49m\u001b[43mcreate_device_api\u001b[49m\u001b[43m(\u001b[49m\u001b[43mdevice\u001b[49m\u001b[43m,\u001b[49m\u001b[43m \u001b[49m\u001b[43msocket_ids\u001b[49m\u001b[43m)\u001b[49m\n\u001b[1;32m     60\u001b[0m         \u001b[38;5;28mself\u001b[39m\u001b[38;5;241m.\u001b[39m_available_devices\u001b[38;5;241m.\u001b[39mappend(device)\n\u001b[1;32m     61\u001b[0m     \u001b[38;5;28;01mexcept\u001b[39;00m PyRAPLCantInitDeviceAPI:\n",
      "File \u001b[0;32m~/Desktop/medtech/medtech-codes/myenv/lib/python3.10/site-packages/pyRAPL/device_api.py:186\u001b[0m, in \u001b[0;36mDeviceAPIFactory.create_device_api\u001b[0;34m(device, socket_ids)\u001b[0m\n\u001b[1;32m    180\u001b[0m \u001b[38;5;250m\u001b[39m\u001b[38;5;124;03m\"\"\"\u001b[39;00m\n\u001b[1;32m    181\u001b[0m \u001b[38;5;124;03m:param device: the device corresponding to the DeviceAPI to be created\u001b[39;00m\n\u001b[1;32m    182\u001b[0m \u001b[38;5;124;03m:param socket_ids: param that will be passed to the constructor of the DeviceAPI instance\u001b[39;00m\n\u001b[1;32m    183\u001b[0m \u001b[38;5;124;03m:return: a DeviceAPI instance\u001b[39;00m\n\u001b[1;32m    184\u001b[0m \u001b[38;5;124;03m\"\"\"\u001b[39;00m\n\u001b[1;32m    185\u001b[0m \u001b[38;5;28;01mif\u001b[39;00m device \u001b[38;5;241m==\u001b[39m Device\u001b[38;5;241m.\u001b[39mPKG:\n\u001b[0;32m--> 186\u001b[0m     \u001b[38;5;28;01mreturn\u001b[39;00m \u001b[43mPkgAPI\u001b[49m\u001b[43m(\u001b[49m\u001b[43msocket_ids\u001b[49m\u001b[43m)\u001b[49m\n\u001b[1;32m    187\u001b[0m \u001b[38;5;28;01mif\u001b[39;00m device \u001b[38;5;241m==\u001b[39m Device\u001b[38;5;241m.\u001b[39mDRAM:\n\u001b[1;32m    188\u001b[0m     \u001b[38;5;28;01mreturn\u001b[39;00m DramAPI(socket_ids)\n",
      "File \u001b[0;32m~/Desktop/medtech/medtech-codes/myenv/lib/python3.10/site-packages/pyRAPL/device_api.py:137\u001b[0m, in \u001b[0;36mPkgAPI.__init__\u001b[0;34m(self, socket_ids)\u001b[0m\n\u001b[1;32m    136\u001b[0m \u001b[38;5;28;01mdef\u001b[39;00m \u001b[38;5;21m__init__\u001b[39m(\u001b[38;5;28mself\u001b[39m, socket_ids: Optional[\u001b[38;5;28mint\u001b[39m] \u001b[38;5;241m=\u001b[39m \u001b[38;5;28;01mNone\u001b[39;00m):\n\u001b[0;32m--> 137\u001b[0m     \u001b[43mDeviceAPI\u001b[49m\u001b[38;5;241;43m.\u001b[39;49m\u001b[38;5;21;43m__init__\u001b[39;49m\u001b[43m(\u001b[49m\u001b[38;5;28;43mself\u001b[39;49m\u001b[43m,\u001b[49m\u001b[43m \u001b[49m\u001b[43msocket_ids\u001b[49m\u001b[43m)\u001b[49m\n",
      "File \u001b[0;32m~/Desktop/medtech/medtech-codes/myenv/lib/python3.10/site-packages/pyRAPL/device_api.py:68\u001b[0m, in \u001b[0;36mDeviceAPI.__init__\u001b[0;34m(self, socket_ids)\u001b[0m\n\u001b[1;32m     60\u001b[0m \u001b[38;5;28;01mdef\u001b[39;00m \u001b[38;5;21m__init__\u001b[39m(\u001b[38;5;28mself\u001b[39m, socket_ids: Optional[List[\u001b[38;5;28mint\u001b[39m]] \u001b[38;5;241m=\u001b[39m \u001b[38;5;28;01mNone\u001b[39;00m):\n\u001b[1;32m     61\u001b[0m \u001b[38;5;250m    \u001b[39m\u001b[38;5;124;03m\"\"\"\u001b[39;00m\n\u001b[1;32m     62\u001b[0m \u001b[38;5;124;03m    :param int socket_ids: if None, the API will get the energy consumption of the whole machine otherwise, it will\u001b[39;00m\n\u001b[1;32m     63\u001b[0m \u001b[38;5;124;03m                           get the energy consumption of the device on the given socket package\u001b[39;00m\n\u001b[0;32m   (...)\u001b[0m\n\u001b[1;32m     66\u001b[0m \u001b[38;5;124;03m    :raise PyRAPLBadSocketIdException: the machine where is initialised the DeviceAPI has no the requested socket\u001b[39;00m\n\u001b[1;32m     67\u001b[0m \u001b[38;5;124;03m    \"\"\"\u001b[39;00m\n\u001b[0;32m---> 68\u001b[0m     all_socket_id \u001b[38;5;241m=\u001b[39m \u001b[43mget_socket_ids\u001b[49m\u001b[43m(\u001b[49m\u001b[43m)\u001b[49m\n\u001b[1;32m     69\u001b[0m     \u001b[38;5;28;01mif\u001b[39;00m socket_ids \u001b[38;5;129;01mis\u001b[39;00m \u001b[38;5;28;01mNone\u001b[39;00m:\n\u001b[1;32m     70\u001b[0m         \u001b[38;5;28mself\u001b[39m\u001b[38;5;241m.\u001b[39m_socket_ids \u001b[38;5;241m=\u001b[39m all_socket_id\n",
      "File \u001b[0;32m~/Desktop/medtech/medtech-codes/myenv/lib/python3.10/site-packages/pyRAPL/device_api.py:49\u001b[0m, in \u001b[0;36mget_socket_ids\u001b[0;34m()\u001b[0m\n\u001b[1;32m     45\u001b[0m \u001b[38;5;250m\u001b[39m\u001b[38;5;124;03m\"\"\"\u001b[39;00m\n\u001b[1;32m     46\u001b[0m \u001b[38;5;124;03mreturn cpu socket id present on the machine\u001b[39;00m\n\u001b[1;32m     47\u001b[0m \u001b[38;5;124;03m\"\"\"\u001b[39;00m\n\u001b[1;32m     48\u001b[0m socket_id_list \u001b[38;5;241m=\u001b[39m []\n\u001b[0;32m---> 49\u001b[0m \u001b[38;5;28;01mfor\u001b[39;00m cpu_id \u001b[38;5;129;01min\u001b[39;00m \u001b[43mcpu_ids\u001b[49m\u001b[43m(\u001b[49m\u001b[43m)\u001b[49m:\n\u001b[1;32m     50\u001b[0m     api_file \u001b[38;5;241m=\u001b[39m \u001b[38;5;28mopen\u001b[39m(\u001b[38;5;124m'\u001b[39m\u001b[38;5;124m/sys/devices/system/cpu/cpu\u001b[39m\u001b[38;5;124m'\u001b[39m \u001b[38;5;241m+\u001b[39m \u001b[38;5;28mstr\u001b[39m(cpu_id) \u001b[38;5;241m+\u001b[39m \u001b[38;5;124m'\u001b[39m\u001b[38;5;124m/topology/physical_package_id\u001b[39m\u001b[38;5;124m'\u001b[39m)\n\u001b[1;32m     51\u001b[0m     socket_id_list\u001b[38;5;241m.\u001b[39mappend(\u001b[38;5;28mint\u001b[39m(api_file\u001b[38;5;241m.\u001b[39mreadline()\u001b[38;5;241m.\u001b[39mstrip()))\n",
      "File \u001b[0;32m~/Desktop/medtech/medtech-codes/myenv/lib/python3.10/site-packages/pyRAPL/device_api.py:31\u001b[0m, in \u001b[0;36mcpu_ids\u001b[0;34m()\u001b[0m\n\u001b[1;32m     27\u001b[0m \u001b[38;5;28;01mdef\u001b[39;00m \u001b[38;5;21mcpu_ids\u001b[39m() \u001b[38;5;241m-\u001b[39m\u001b[38;5;241m>\u001b[39m List[\u001b[38;5;28mint\u001b[39m]:\n\u001b[1;32m     28\u001b[0m \u001b[38;5;250m    \u001b[39m\u001b[38;5;124;03m\"\"\"\u001b[39;00m\n\u001b[1;32m     29\u001b[0m \u001b[38;5;124;03m    return the cpu id of this machine\u001b[39;00m\n\u001b[1;32m     30\u001b[0m \u001b[38;5;124;03m    \"\"\"\u001b[39;00m\n\u001b[0;32m---> 31\u001b[0m     api_file \u001b[38;5;241m=\u001b[39m \u001b[38;5;28;43mopen\u001b[39;49m\u001b[43m(\u001b[49m\u001b[38;5;124;43m'\u001b[39;49m\u001b[38;5;124;43m/sys/devices/system/cpu/present\u001b[39;49m\u001b[38;5;124;43m'\u001b[39;49m\u001b[43m,\u001b[49m\u001b[43m \u001b[49m\u001b[38;5;124;43m'\u001b[39;49m\u001b[38;5;124;43mr\u001b[39;49m\u001b[38;5;124;43m'\u001b[39;49m\u001b[43m)\u001b[49m\n\u001b[1;32m     33\u001b[0m     cpu_id_tmp \u001b[38;5;241m=\u001b[39m re\u001b[38;5;241m.\u001b[39mfindall(\u001b[38;5;124m'\u001b[39m\u001b[38;5;124m\\\u001b[39m\u001b[38;5;124md+|-\u001b[39m\u001b[38;5;124m'\u001b[39m, api_file\u001b[38;5;241m.\u001b[39mreadline()\u001b[38;5;241m.\u001b[39mstrip())\n\u001b[1;32m     34\u001b[0m     cpu_id_list \u001b[38;5;241m=\u001b[39m []\n",
      "\u001b[0;31mFileNotFoundError\u001b[0m: [Errno 2] No such file or directory: '/sys/devices/system/cpu/present'"
     ]
    }
   ],
   "source": [
    "import pyRAPL\n",
    "\n",
    "pyRAPL.setup()\n",
    "\n",
    "csv_output = pyRAPL.outputs.CSVOutput('result.csv')\n",
    "\n",
    "@pyRAPL.measure(output=csv_output)\n",
    "def foo():\n",
    "    # Instructions to be evaluated.\n",
    "    for i in range(1000000):\n",
    "        pass\n",
    "\n",
    "for _ in range(100):\n",
    "    foo()\n",
    "\n",
    "csv_output.save()"
   ]
  },
  {
   "cell_type": "code",
   "execution_count": null,
   "metadata": {},
   "outputs": [],
   "source": []
  }
 ],
 "metadata": {
  "kernelspec": {
   "display_name": "myenv",
   "language": "python",
   "name": "python3"
  },
  "language_info": {
   "codemirror_mode": {
    "name": "ipython",
    "version": 3
   },
   "file_extension": ".py",
   "mimetype": "text/x-python",
   "name": "python",
   "nbconvert_exporter": "python",
   "pygments_lexer": "ipython3",
   "version": "3.10.4"
  }
 },
 "nbformat": 4,
 "nbformat_minor": 2
}
