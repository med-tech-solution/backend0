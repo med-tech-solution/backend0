{
 "cells": [
  {
   "cell_type": "code",
   "execution_count": 2,
   "metadata": {},
   "outputs": [],
   "source": [
    "from code_llama_utils import *\n",
    "from common_imports import *\n",
    "\n",
    "class CodeOptimizer:\n",
    "    def __init__(self):\n",
    "        self.code_llama_engine = CodeLLamaInstructEngine(\n",
    "            systemPromptText=\"\"\"\n",
    "            You are a helpful coding assistant. \n",
    "            You are given a non-optimized code snippet. \n",
    "            You have to optimize the code snippet.\n",
    "            Keep in mind the code should be CPU optimized , Memory optimized and should be easy to read and understand.\n",
    "            Reduce time complexity and space complexity wherever possible. Tou can use alternate libraries or functions if it improves the code quality.\n",
    "            \"\"\",paramcount=13)\n",
    "        \n",
    "    \n",
    "    def generate_query_prompt(self, query):\n",
    "        return f\"\"\"\n",
    "        The original code snippet is given below:\n",
    "        ```\n",
    "        {query}\n",
    "        ```\n",
    "\n",
    "        You have to optimize the code snippet following the instructions given in the system prompt.\n",
    "        \"\"\"\n",
    "    \n",
    "    @staticmethod\n",
    "    def extract_and_clean_code(s):\n",
    "        # # Extract text between ``` and ```\n",
    "        # pattern = r'```(.*?)```'\n",
    "        # matches = re.findall(pattern, s, re.DOTALL)\n",
    "        # s = matches[0]\n",
    "        \n",
    "        # s = '\\n'.join([line.rstrip() for line in s.splitlines()])\n",
    "        # s = '\\n'.join([line for line in s.splitlines() if '__main__' not in line])\n",
    "        \n",
    "        return s\n",
    "        \n",
    "    def optimize(self, function_body):\n",
    "        response_text = self.code_llama_engine.run(query=self.generate_query_prompt(function_body), extract_and_clean_code=CodeOptimizer.extract_and_clean_code)\n",
    "        return response_text"
   ]
  },
  {
   "cell_type": "code",
   "execution_count": 3,
   "metadata": {},
   "outputs": [],
   "source": [
    "code_opt = CodeOptimizer()"
   ]
  },
  {
   "cell_type": "code",
   "execution_count": 5,
   "metadata": {},
   "outputs": [],
   "source": [
    "ans = code_opt.optimize(\"\"\"\n",
    "def isPalindrome(s):\n",
    "    return s == s[::-1]\n",
    "\"\"\")"
   ]
  },
  {
   "cell_type": "code",
   "execution_count": 8,
   "metadata": {},
   "outputs": [
    {
     "name": "stdout",
     "output_type": "stream",
     "text": [
      "  \n",
      "        ```\n",
      "        def isPalindrome(s):\n",
      "            return s == s[::-1]\n",
      "        ```\n",
      "\n",
      "        The given code snippet is already optimized for both time and space complexity. The time complexity is O(n) and the space complexity is O(1) where n is the length of the input string.\n",
      "\n",
      "        However, we can further optimize the code by using a more efficient algorithm. One such algorithm is the Manacher's algorithm, which has a time complexity of O(n) and a space complexity of O(n).\n",
      "\n",
      "        Here's an example implementation of the Manacher's algorithm:\n",
      "        ```\n",
      "        def isPalindrome(s):\n",
      "            n = len(s)\n",
      "            p = [0] * n\n",
      "            center, right = 0, 0\n",
      "            for i in range(n):\n",
      "                if right > i:\n",
      "                    p[i] = min(right - i, p[2 * center - i])\n",
      "                while i + p[i] < n and i - p[i] > -1 and s[i + p[i]] == s[i - p[i]]:\n",
      "                    p[i] += 1\n",
      "                if i + p[i] > right:\n",
      "                    center, right = i, i + p[i]\n",
      "            return p[n // 2] > n // 2\n",
      "        ```\n",
      "        In this implementation, we first initialize an array `p` of length `n` to store the length of the longest palindromic substring centered at each index. We then iterate through the string and update the values of `p` based on the current index and the values of `p` at the previous indices.\n",
      "\n",
      "        After the iteration is complete, we check if the length of the longest palindromic substring is greater than half the length of the input string. If it is, then the input string is a palindrome.\n",
      "\n",
      "        The time complexity of this algorithm is O(n) and the space complexity is O(n) as well.\n",
      "\n",
      "        Overall, the optimized code snippet is more efficient and easier to read and understand than the original code snippet.\n"
     ]
    }
   ],
   "source": [
    "print(ans)"
   ]
  },
  {
   "cell_type": "code",
   "execution_count": null,
   "metadata": {},
   "outputs": [],
   "source": []
  }
 ],
 "metadata": {
  "kernelspec": {
   "display_name": ".venv",
   "language": "python",
   "name": "python3"
  },
  "language_info": {
   "codemirror_mode": {
    "name": "ipython",
    "version": 3
   },
   "file_extension": ".py",
   "mimetype": "text/x-python",
   "name": "python",
   "nbconvert_exporter": "python",
   "pygments_lexer": "ipython3",
   "version": "3.10.4"
  }
 },
 "nbformat": 4,
 "nbformat_minor": 2
}
